{
 "cells": [
  {
   "cell_type": "markdown",
   "id": "aa0c20c5",
   "metadata": {},
   "source": [
    "# Map() Function in python"
   ]
  },
  {
   "cell_type": "markdown",
   "id": "5c355fea",
   "metadata": {},
   "source": [
    "The map function applies a specified function to each item in an iterable (like a list) and returns an iterator of the results."
   ]
  },
  {
   "cell_type": "markdown",
   "id": "d3545200",
   "metadata": {},
   "source": [
    "Syntax = map(function, iterables)"
   ]
  },
  {
   "cell_type": "markdown",
   "id": "25588e15",
   "metadata": {},
   "source": [
    "## Iterable and Iterators"
   ]
  },
  {
   "cell_type": "markdown",
   "id": "81d0ad10",
   "metadata": {},
   "source": [
    "1. An iterable is something you can loop over (like a list).\n",
    "2. An iterator is an object that allows you to iterate over an iterable, fetching items one at a time."
   ]
  },
  {
   "cell_type": "code",
   "execution_count": null,
   "id": "fb4e5f81",
   "metadata": {},
   "outputs": [],
   "source": [
    "# An iterable list of candies\n",
    "candies = [\"chocolate\", \"lollipop\", \"gummy bear\", \"caramel\"]\n",
    "\n",
    "# An iterator function\n",
    "def candy_iterator(candies):\n",
    "    # Iterate over the candies list\n",
    "    for candy in candies:\n",
    "        # Yield each candy one by one\n",
    "        yield candy\n",
    "\n",
    "# Iterate over the candies using the iterator function\n",
    "for candy in candy_iterator(candies):\n",
    "    print(candy)"
   ]
  },
  {
   "cell_type": "code",
   "execution_count": null,
   "id": "afc03c73",
   "metadata": {},
   "outputs": [],
   "source": [
    "def show(n):\n",
    "  return len(n)\n",
    "\n",
    "x = map(show,('ram', 'shyam', 'hari'))\n",
    "print(x)\n",
    "print(list(x))"
   ]
  },
  {
   "cell_type": "code",
   "execution_count": null,
   "id": "6c5e7e9b",
   "metadata": {},
   "outputs": [],
   "source": [
    "def add(a, b):\n",
    "  return a + b\n",
    "\n",
    "x = map(myfunc, ('ram', 'laxman', 'hari'), ('sita', 'gita', 'laxmi'))\n",
    "print(list(x))"
   ]
  },
  {
   "cell_type": "code",
   "execution_count": null,
   "id": "a2dae6e3",
   "metadata": {},
   "outputs": [],
   "source": [
    "\n",
    "def double(x):\n",
    "    return x * 2\n",
    "\n",
    "num = map(double, [11, 22, 33, 44, 55])\n",
    "print(list(num))"
   ]
  }
 ],
 "metadata": {
  "kernelspec": {
   "display_name": "Python 3 (ipykernel)",
   "language": "python",
   "name": "python3"
  },
  "language_info": {
   "codemirror_mode": {
    "name": "ipython",
    "version": 3
   },
   "file_extension": ".py",
   "mimetype": "text/x-python",
   "name": "python",
   "nbconvert_exporter": "python",
   "pygments_lexer": "ipython3",
   "version": "3.9.12"
  }
 },
 "nbformat": 4,
 "nbformat_minor": 5
}
