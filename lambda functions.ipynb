{
 "cells": [
  {
   "cell_type": "markdown",
   "id": "588848b0-b7cf-45c9-a43f-ababbd1560be",
   "metadata": {},
   "source": [
    "# Lambda functions \n",
    "\n",
    "* A lambda function, also known as an **anonymous function** , is a efficient technique of creating a function in programming.\n",
    "* It can take any number of arguments, however can only have one expression"
   ]
  },
  {
   "cell_type": "markdown",
   "id": "8d254657-6637-4d01-abd0-361335ecdfa2",
   "metadata": {},
   "source": [
    "\n",
    "lambda arguments : expression"
   ]
  },
  {
   "cell_type": "code",
   "execution_count": null,
   "id": "c6685833-4314-41ac-9244-8564ad3a36d6",
   "metadata": {},
   "outputs": [],
   "source": [
    "mul = lambda x: x * 2\n",
    "print(mul(5))\n",
    "\n",
    "add = lambda x: x + 2\n",
    "print(mul(5))\n",
    "\n",
    "sub = lambda x: x - 2\n",
    "print(mul(5))\n",
    "\n",
    "div = lambda x: x / 2\n",
    "print(div(5))\n"
   ]
  },
  {
   "cell_type": "markdown",
   "id": "1633c7ff-e0b5-4c59-b66a-d36a14ec24db",
   "metadata": {},
   "source": [
    "###### Multiple arguments"
   ]
  },
  {
   "cell_type": "code",
   "execution_count": null,
   "id": "f2cf2677-a2c3-4557-8de9-393bf52afb38",
   "metadata": {},
   "outputs": [],
   "source": [
    "mul = lambda x,y : x * y\n",
    "print(mul(2, 2))\n",
    "\n",
    "a = lambda x, y, z : x + y + z\n",
    "print(a(2, 8, 12))"
   ]
  },
  {
   "cell_type": "markdown",
   "id": "115b70c5-12fb-43ad-8e20-46f07014dc21",
   "metadata": {},
   "source": [
    "Lambda functions are particularly useful when employed as anonymous functions within other functions.\n",
    "\n",
    "Imagine you have a function that needs to accept another function as an argument. If this function requires only a single argument and that argument will be manipulated with an unknown operation, lambda functions shine\n",
    "\n"
   ]
  },
  {
   "cell_type": "code",
   "execution_count": 1,
   "id": "bff64fdf-af74-47de-b7a7-8fbcb84ed857",
   "metadata": {},
   "outputs": [
    {
     "name": "stdout",
     "output_type": "stream",
     "text": [
      "12\n"
     ]
    }
   ],
   "source": [
    "def func(n):\n",
    "    return lambda a: a * n\n",
    "\n",
    "my_multiplier = func(3)\n",
    "\n",
    "print(my_multiplier(4))"
   ]
  },
  {
   "cell_type": "code",
   "execution_count": 2,
   "id": "81500b2f-089e-4743-a19d-7a908815347d",
   "metadata": {},
   "outputs": [
    {
     "name": "stdout",
     "output_type": "stream",
     "text": [
      "12\n",
      "18\n"
     ]
    }
   ],
   "source": [
    "def func(n):\n",
    "    return lambda a: a * n\n",
    "\n",
    "my_multiplier = func(3)\n",
    "\n",
    "my_multiplier1 = func(3)\n",
    "\n",
    "print(my_multiplier(4))\n",
    "\n",
    "print(my_multiplier(6))"
   ]
  },
  {
   "cell_type": "markdown",
   "id": "915f6a76-cdee-41a3-8d36-245b06d9fd69",
   "metadata": {},
   "source": [
    "### Filter function\n",
    "the filter() function is used to selectively filter out elements from a list based on a specified condition."
   ]
  },
  {
   "cell_type": "code",
   "execution_count": 3,
   "id": "9371eda5-e2b5-4d7c-be01-37d2ba737de3",
   "metadata": {},
   "outputs": [
    {
     "name": "stdout",
     "output_type": "stream",
     "text": [
      "[2, 4, 6, 8, 10]\n"
     ]
    }
   ],
   "source": [
    "nums = [1, 2, 3, 4, 5, 6, 7, 8, 9, 10]\n",
    "even_nums = list(filter(lambda x: x % 2 == 0, nums)) \n",
    "print(even_nums)"
   ]
  },
  {
   "cell_type": "code",
   "execution_count": 4,
   "id": "d2b8e23b-c5ae-40c1-9281-d24669fc4d48",
   "metadata": {},
   "outputs": [
    {
     "name": "stdout",
     "output_type": "stream",
     "text": [
      "[(4, 1), (3, 2), (1, 5), (2, 8)]\n"
     ]
    }
   ],
   "source": [
    "tuples_list = [(1, 5), (3, 2), (2, 8), (4, 1)]\n",
    "sorted_list = sorted(tuples_list, key=lambda x: x[1])\n",
    "print(sorted_list)"
   ]
  }
 ],
 "metadata": {
  "kernelspec": {
   "display_name": "Python 3 (ipykernel)",
   "language": "python",
   "name": "python3"
  },
  "language_info": {
   "codemirror_mode": {
    "name": "ipython",
    "version": 3
   },
   "file_extension": ".py",
   "mimetype": "text/x-python",
   "name": "python",
   "nbconvert_exporter": "python",
   "pygments_lexer": "ipython3",
   "version": "3.9.12"
  }
 },
 "nbformat": 4,
 "nbformat_minor": 5
}
