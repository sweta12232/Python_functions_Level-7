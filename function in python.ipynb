{
 "cells": [
  {
   "cell_type": "markdown",
   "id": "9d4173ca-e5c4-4705-9e90-5c3d2c3f299f",
   "metadata": {},
   "source": [
    "# Functions in python "
   ]
  },
  {
   "cell_type": "markdown",
   "id": "ca7fbc85-739a-4f0a-bc3b-5f6715168ce8",
   "metadata": {},
   "source": [
    "It is  categorized into two types\n",
    "1. Built-in functions\n",
    "2. User-defined functions."
   ]
  },
  {
   "cell_type": "markdown",
   "id": "d97b773c-339c-4351-abe9-a6e03551cd55",
   "metadata": {},
   "source": [
    "### Built-in functions"
   ]
  },
  {
   "cell_type": "markdown",
   "id": "5d351075-26c9-4574-a1ed-fca4fab881d1",
   "metadata": {},
   "source": [
    "It is predefined in Python and are readily available for use without requiring any additional declaration or definition."
   ]
  },
  {
   "cell_type": "markdown",
   "id": "b65a4f5f-90b3-42e9-965f-df3602b6e06e",
   "metadata": {},
   "source": [
    "* A function is a block of code that executes only when explicitly called.\r",
    "* Parameters, also known as input data, can be passed into a function to customize its behavior\n",
    "\n",
    "* \n",
    "Functions have the capability to return data as a result of their execution"
   ]
  },
  {
   "cell_type": "markdown",
   "id": "688be062-19df-492b-9f8c-f5a63d25cbb0",
   "metadata": {},
   "source": [
    "### User-defined functions"
   ]
  },
  {
   "cell_type": "code",
   "execution_count": null,
   "id": "3fe41d78-67a6-4942-9273-d3c4ec4469bd",
   "metadata": {},
   "outputs": [],
   "source": [
    "def func():\n",
    "  print(\"Helllo this is my first function\")\n",
    "func()"
   ]
  },
  {
   "cell_type": "markdown",
   "id": "e08a5adc-04f5-4ca0-9c57-a863645e6aec",
   "metadata": {},
   "source": [
    "##### Functions taking arguments"
   ]
  },
  {
   "cell_type": "code",
   "execution_count": null,
   "id": "f85e37ac-1adf-421d-a6bb-a9606e9a4905",
   "metadata": {},
   "outputs": [],
   "source": [
    "def greet(name): # #1. function definitation \n",
    "    print(f'hello {name}')\n",
    "greet('sweta') # function call"
   ]
  },
  {
   "cell_type": "code",
   "execution_count": null,
   "id": "d2b28834-5319-443e-98f2-26b14e52e389",
   "metadata": {},
   "outputs": [],
   "source": [
    "def fullname(firstname, surname):\n",
    "  print(firstname + \" \" + surname)\n",
    "\n",
    "fullname(\"sweta\", \"sharma\")"
   ]
  },
  {
   "cell_type": "markdown",
   "id": "cd21307e-79af-453f-b4fe-cc8581cbbd2c",
   "metadata": {},
   "source": [
    " \n",
    "* actual pararmeter\n",
    "* formal\n",
    "\n"
   ]
  },
  {
   "cell_type": "code",
   "execution_count": null,
   "id": "27141bee-0753-4246-a89e-3a65fda25627",
   "metadata": {},
   "outputs": [],
   "source": [
    "def add(a,b): # The parameter passed during function is called formal\n",
    "    sum = a + b\n",
    "    print(\"Sum\", sum)\n",
    "\n",
    "add(4,5) # The parameter passed during functionis called  actual"
   ]
  },
  {
   "cell_type": "code",
   "execution_count": null,
   "id": "bc8ff525-07a3-43e4-be7e-e94a48861eb9",
   "metadata": {},
   "outputs": [],
   "source": [
    "def simpleIntrest(P, T, R ):\n",
    "    I = P* T * R /100\n",
    "    print(\"The simple intrest is \", I)\n",
    "simpleIntrest(2,3,4)"
   ]
  },
  {
   "cell_type": "code",
   "execution_count": null,
   "id": "f9c06ae8-4f1e-45cd-8e39-8b89ec294bff",
   "metadata": {},
   "outputs": [],
   "source": [
    "breadth = int(input(\"Enter the breadth: \"))\n",
    "length = int(input(\"Enter the length: \"))\n",
    "\n",
    "def Rectangle(length, breadth):\n",
    "    a = length * breadth\n",
    "    b = length + breadth\n",
    "    print(\"The area is \", a)\n",
    "    print(\"The perimeter is \", b)\n",
    "\n",
    "Rectangle(length, breadth)"
   ]
  },
  {
   "cell_type": "code",
   "execution_count": null,
   "id": "2e95e11d-92ac-4e8b-b8b6-dfd13f8cc3ae",
   "metadata": {},
   "outputs": [],
   "source": [
    "def show(a):\n",
    "    print(a)\n",
    "\n",
    "\n",
    "a = [2,3,4,5,6]\n",
    "show(a)"
   ]
  },
  {
   "cell_type": "code",
   "execution_count": null,
   "id": "41b86cd4-6596-45fc-a523-28674efa3f83",
   "metadata": {},
   "outputs": [],
   "source": [
    "ma"
   ]
  },
  {
   "cell_type": "markdown",
   "id": "ac30e3b4-a5f9-430e-94c9-c05279d19a66",
   "metadata": {},
   "source": [
    "##### *args"
   ]
  },
  {
   "cell_type": "markdown",
   "id": "e4474690-acf2-4940-bf33-84429494b605",
   "metadata": {},
   "source": [
    "\n",
    "To accommodate an unknown number of arguments passed into your function, prefix the parameter name in the function definition with an asterisk (*)."
   ]
  },
  {
   "cell_type": "code",
   "execution_count": null,
   "id": "f14e1a1c-700a-412f-8c96-6a45726fb89b",
   "metadata": {},
   "outputs": [],
   "source": [
    "def show(*arg):\n",
    "    print(arg)\n",
    "show(\"RAM\", \"SITA\", \"SHYAM\",\"HARI\")"
   ]
  },
  {
   "cell_type": "code",
   "execution_count": null,
   "id": "7d881c65-9e82-4f44-b543-6b4ce65aefbf",
   "metadata": {},
   "outputs": [],
   "source": [
    "def greet(*args):\n",
    "    print(f'hello {args}')\n",
    "greet('sweta', \"nunu\", \"bishnu\", \"sunil\")"
   ]
  },
  {
   "cell_type": "code",
   "execution_count": null,
   "id": "b211ff4d-2b07-4884-b999-796106d73da1",
   "metadata": {},
   "outputs": [],
   "source": [
    "def factorial(a):\n",
    "    fac = 1\n",
    "    for i in range(1, a+1):\n",
    "        fac = fac* i\n",
    "    print(\"The factorial is \" , fac)\n",
    "\n",
    "n = int(input(\"Enter the number\"))\n",
    "factorial(n)\n",
    "\n",
    "\n"
   ]
  },
  {
   "cell_type": "code",
   "execution_count": null,
   "id": "9956db40-4942-41ee-a0cb-db660469d0c5",
   "metadata": {},
   "outputs": [],
   "source": [
    "def factor(a):\n",
    "    for i in range(1, a+1):\n",
    "        if  a % i == 0:\n",
    "            print(i)\n",
    "\n",
    "num = int(input(\"Enter the number:\"))\n",
    "factor(num)"
   ]
  },
  {
   "cell_type": "code",
   "execution_count": null,
   "id": "555c95d3-ec08-4597-af32-9b0a07f262f6",
   "metadata": {},
   "outputs": [],
   "source": [
    "n = int(input(\"Enter the number: \"))\n",
    "def multiply(n):\n",
    "    for i in range(1, 11):\n",
    "        print(n,\"*\",i,\"=\",n*i)\n",
    "multiply(n)"
   ]
  },
  {
   "cell_type": "markdown",
   "id": "2bb439dc-8870-4216-9f75-60908282ca6d",
   "metadata": {},
   "source": [
    "#####  **kwargs"
   ]
  },
  {
   "cell_type": "markdown",
   "id": "8f0ccd87-1496-4c33-9364-0fe91cca7007",
   "metadata": {},
   "source": [
    "To handle an uncertain number of keyword arguments passed into your function, include two asterisks (**) before the parameter name in the function definition."
   ]
  },
  {
   "cell_type": "code",
   "execution_count": null,
   "id": "13d87f57-f6d3-46ef-8d9b-19b59b28a203",
   "metadata": {},
   "outputs": [],
   "source": [
    "def show(**kwarg): #KEYWORD ARGUMENT VALUE AND KEY WHERE VALUE COME IN DIC\n",
    "    print(kwarg)\n",
    "\n",
    "show(name = 'RAM', rollNo = '1') \n",
    "#postional arugment,"
   ]
  },
  {
   "cell_type": "code",
   "execution_count": null,
   "id": "8d2a62b2-2ffe-44a7-bb9e-cd39ae166153",
   "metadata": {},
   "outputs": [],
   "source": [
    "\n",
    "\n",
    "def employeeDetail(**kwarg):\n",
    "    print(kwarg)\n",
    "\n",
    "employeeDetail(name = \"Ram\", Email = \"ram@gmail.com\", address = \"ktm\", position = \"HR\", salary = 50000)\n",
    "employeeDetail(name = \"shyam\", Email = \"shyam@gmail.com\", address = \"banepa\", position = \"software engineer\", salary = 70000)"
   ]
  },
  {
   "cell_type": "code",
   "execution_count": null,
   "id": "4397ed1e-6182-4d23-85f8-3f893313718c",
   "metadata": {},
   "outputs": [],
   "source": [
    "\n",
    "def prime_num():\n",
    "    for num in range(1, 51): \n",
    "        if num > 1:  # Prime numbers are greater than 1\n",
    "            for i in range(2, num):  # Check for factors from 2 to num-1\n",
    "                if (num % i) == 0:  # If num is divisible by i, it's not prime\n",
    "                    break\n",
    "            else:  # If no factors found, it's a prime number\n",
    "                print(num)\n",
    "\n",
    "prime_num()"
   ]
  },
  {
   "cell_type": "code",
   "execution_count": null,
   "id": "e80bb1fb-9499-4655-96fe-374ac3f502b7",
   "metadata": {},
   "outputs": [],
   "source": [
    "def is_palindrome(n):\n",
    "    temp = n\n",
    "    rev = 0\n",
    "    while temp > 0:\n",
    "        rem = temp % 10\n",
    "        rev = rev * 10 + rem\n",
    "        temp = temp // 10\n",
    "    return n == rev\n",
    "\n",
    "def palindrome_range(start, end):\n",
    "    palindromes = []\n",
    "    \n",
    "    for num in range(start, end + 1):\n",
    "        if is_palindrome(num):\n",
    "            palindromes.append(num)\n",
    "    \n",
    "    return palindromes\n",
    "\n",
    "# Find palindromic numbers between 500 and 1000\n",
    "palindromic_numbers = palindrome_range(500, 1000)\n",
    "print(\"Palindromic numbers between 500 and 1000:\", palindromic_numbers)"
   ]
  },
  {
   "cell_type": "code",
   "execution_count": null,
   "id": "a48250d7-574a-44c4-84e7-adf695ecb0ce",
   "metadata": {},
   "outputs": [],
   "source": []
  }
 ],
 "metadata": {
  "kernelspec": {
   "display_name": "Python 3 (ipykernel)",
   "language": "python",
   "name": "python3"
  },
  "language_info": {
   "codemirror_mode": {
    "name": "ipython",
    "version": 3
   },
   "file_extension": ".py",
   "mimetype": "text/x-python",
   "name": "python",
   "nbconvert_exporter": "python",
   "pygments_lexer": "ipython3",
   "version": "3.11.7"
  }
 },
 "nbformat": 4,
 "nbformat_minor": 5
}
